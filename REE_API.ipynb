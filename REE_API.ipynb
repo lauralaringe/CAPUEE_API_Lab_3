{
 "cells": [
  {
   "cell_type": "markdown",
   "metadata": {},
   "source": [
    "# REE API"
   ]
  },
  {
   "cell_type": "code",
   "execution_count": 51,
   "metadata": {},
   "outputs": [],
   "source": [
    "# import request library (by Python developers)\n",
    "import requests"
   ]
  },
  {
   "cell_type": "markdown",
   "metadata": {},
   "source": [
    "## GET API"
   ]
  },
  {
   "cell_type": "code",
   "execution_count": 70,
   "metadata": {},
   "outputs": [],
   "source": [
    "GET = \"/archives_json\"\n",
    "URL =  \"https://api.esios.ree.es\"\n",
    "\n",
    "\n",
    "HEADERS = {\n",
    "    'Accept' : 'application/json',\n",
    "    'Host': 'api.esios.ree.es',\n",
    "    'Authorization': 'Token token=\\\"6b8f5a5cf5cdb176a7214275733e706786a1457ef5a86e4814b68f9c439c1501\"',\n",
    "    'Content-Type' : 'application/json'\n",
    "}\n",
    "PARAMS = {'date' : '20201104'}\n",
    "\n",
    "response = requests.get(url = URL+GET, headers = HEADERS, params = PARAMS)\n"
   ]
  },
  {
   "cell_type": "code",
   "execution_count": 78,
   "metadata": {},
   "outputs": [
    {
     "name": "stdout",
     "output_type": "stream",
     "text": [
      "172 IND_PreguntasApp\n",
      "171 IND_InformacionApp\n",
      "170 IND_CoeficientesCO2\n",
      "169 IND_EnergiaAnualNacional\n",
      "168 IND_EnergiaMensualNacional\n",
      "167 IND_PotenciaInstaladaNacional\n",
      "140 IND_EnergiaAnual\n",
      "139 IND_EnergiaMensual\n",
      "117 IND_MaxMinRenovEol\n",
      "116 IND_MaxMin\n",
      "115 IND_DemandaRealGen\n",
      "114 IND_DemandaPrevProg\n",
      "113 EntitledParticipants\n",
      "112 BalanceResponsibleParties\n",
      "111 ProgrammingUnits\n",
      "110 GenerationUnits\n",
      "84 ParticipantesSubasta\n",
      "83 SujetosMercado\n",
      "82 UnidadesProgramacion\n",
      "81 UnidadesFisicas\n",
      "77 PVPC_VHC_P3_DD\n",
      "76 PVPC_VHC_P2_DD\n",
      "75 PVPC_VHC_P1_DD\n",
      "73 PVPC_NOC_P1_DD\n",
      "74 PVPC_NOC_P2_DD\n",
      "72 PVPC_GEN_P1_DD\n",
      "70 PVPC_CURV_DD\n",
      "67 IND_Umbrales\n",
      "66 IND_PrecioFinal\n",
      "65 IND_PrecioDesvios\n",
      "64 IND_PotenciaInstalada\n",
      "63 IND_Interconexiones\n",
      "62 IND_DemandaInterrumpible\n"
     ]
    }
   ],
   "source": [
    "data = response.json()\n",
    "\n",
    "for element in data['archives']:\n",
    "    print(element['id'], element['name'])"
   ]
  },
  {
   "cell_type": "code",
   "execution_count": 91,
   "metadata": {},
   "outputs": [
    {
     "name": "stdout",
     "output_type": "stream",
     "text": [
      "Please enter the data id: 70\n",
      "Getting 70:/archives/70/download_json?locale=es\n"
     ]
    }
   ],
   "source": [
    "DATA_ID =  int(input(\"Please enter the data id: \"))\n",
    "\n",
    "for arch in data['archives']:\n",
    "    if arch['id'] is DATA_ID:\n",
    "        GET = arch['json_download']['url']\n",
    "\n",
    "print ('Getting ' + str(DATA_ID) + ':' + GET)"
   ]
  },
  {
   "cell_type": "code",
   "execution_count": 92,
   "metadata": {},
   "outputs": [],
   "source": [
    "# Make GET request\n",
    "\n",
    "request = requests.get(url = URL+GET,  headers = HEADERS, params = PARAMS)"
   ]
  },
  {
   "cell_type": "code",
   "execution_count": 93,
   "metadata": {},
   "outputs": [
    {
     "data": {
      "text/plain": [
       "b'{\"PVPC\":[{\"Dia\":\"04/11/2020\",\"Hora\":\"00-01\",\"GEN\":\"94,20\",\"NOC\":\"45,54\",\"VHC\":\"48,87\",\"COFGEN\":\"0,000079491133000000\",\"COFNOC\":\"0,000129520606000000\",\"COFVHC\":\"0,000143620304000000\",\"PMHGEN\":\"38,03\",\"PMHNOC\":\"36,30\",\"PMHVHC\":\"38,24\",\"SAHGEN\":\"4,48\",\"SAHNOC\":\"4,28\",\"SAHVHC\":\"4,50\",\"FOMGEN\":\"0,03\",\"FOMNOC\":\"0,03\",\"FOMVHC\":\"0,03\",\"FOSGEN\":\"0,17\",\"FOSNOC\":\"0,16\",\"FOSVHC\":\"0,17\",\"INTGEN\":\"0,00\",\"INTNOC\":\"0,00\",\"INTVHC\":\"0,00\",\"PCAPGEN\":\"5,73\",\"PCAPNOC\":\"0,95\",\"PCAPVHC\":\"1,35\",\"TEUGEN\":\"44,03\",\"TEUNOC\":\"2,22\",\"TEUVHC\":\"2,88\",\"CCVGEN\":\"1,74\",\"CCVNOC\":\"1,60\",\"CCVVHC\":\"1,69\"},{\"Dia\":\"04/11/2020\",\"Hora\":\"01-02\",\"GEN\":\"94,20\",\"NOC\":\"45,44\",\"VHC\":\"42,61\",\"COFGEN\":\"0,000063132272000000\",\"COFNOC\":\"0,000114601923000000\",\"COFVHC\":\"0,000158659112000000\",\"PMHGEN\":\"37,47\",\"PMHNOC\":\"35,73\",\"PMHVHC\":\"34,65\",\"SAHGEN\":\"4,98\",\"SAHNOC\":\"4,75\",\"SAHVHC\":\"4,60\",\"FOMGEN\":\"0,03\",\"FOMNOC\":\"0,03\",\"FOMVHC\":\"0,03\",\"FOSGEN\":\"0,17\",\"FOSNOC\":\"0,16\",\"FOSVHC\":\"0,16\",\"INTGEN\":\"0,00\",\"INTNOC\":\"0,00\",\"INTVHC\":\"0,00\",\"PCAPGEN\":\"5,76\",\"PCAPNOC\":\"0,96\",\"PCAPVHC\":\"0,74\",\"TEUGEN\":\"44,03\",\"TEUNOC\":\"2,22\",\"TEUVHC\":\"0,89\",\"CCVGEN\":\"1,75\",\"CCVNOC\":\"1,60\",\"CCVVHC\":\"1,55\"},{\"Dia\":\"04/11/2020\",\"Hora\":\"02-03\",\"GEN\":\"94,92\",\"NOC\":\"46,13\",\"VHC\":\"43,25\",\"COFGEN\":\"0,000055402640000000\",\"COFNOC\":\"0,000105071206000000\",\"COFVHC\":\"0,000155808308000000\",\"PMHGEN\":\"38,13\",\"PMHNOC\":\"36,35\",\"PMHVHC\":\"35,22\",\"SAHGEN\":\"5,03\",\"SAHNOC\":\"4,80\",\"SAHVHC\":\"4,65\",\"FOMGEN\":\"0,03\",\"FOMNOC\":\"0,03\",\"FOMVHC\":\"0,03\",\"FOSGEN\":\"0,17\",\"FOSNOC\":\"0,16\",\"FOSVHC\":\"0,16\",\"INTGEN\":\"0,00\",\"INTNOC\":\"0,00\",\"INTVHC\":\"0,00\",\"PCAPGEN\":\"5,77\",\"PCAPNOC\":\"0,96\",\"PCAPVHC\":\"0,74\",\"TEUGEN\":\"44,03\",\"TEUNOC\":\"2,22\",\"TEUVHC\":\"0,89\",\"CCVGEN\":\"1,76\",\"CCVNOC\":\"1,61\",\"CCVVHC\":\"1,56\"},{\"Dia\":\"04/11/2020\",\"Hora\":\"03-04\",\"GEN\":\"94,86\",\"NOC\":\"46,07\",\"VHC\":\"43,19\",\"COFGEN\":\"0,000052122759000000\",\"COFNOC\":\"0,000099864321000000\",\"COFVHC\":\"0,000149749590000000\",\"PMHGEN\":\"37,19\",\"PMHNOC\":\"35,46\",\"PMHVHC\":\"34,36\",\"SAHGEN\":\"5,91\",\"SAHNOC\":\"5,63\",\"SAHVHC\":\"5,46\",\"FOMGEN\":\"0,03\",\"FOMNOC\":\"0,03\",\"FOMVHC\":\"0,03\",\"FOSGEN\":\"0,17\",\"FOSNOC\":\"0,16\",\"FOSVHC\":\"0,16\",\"INTGEN\":\"0,00\",\"INTNOC\":\"0,00\",\"INTVHC\":\"0,00\",\"PCAPGEN\":\"5,77\",\"PCAPNOC\":\"0,96\",\"PCAPVHC\":\"0,74\",\"TEUGEN\":\"44,03\",\"TEUNOC\":\"2,22\",\"TEUVHC\":\"0,89\",\"CCVGEN\":\"1,76\",\"CCVNOC\":\"1,61\",\"CCVVHC\":\"1,56\"},{\"Dia\":\"04/11/2020\",\"Hora\":\"04-05\",\"GEN\":\"95,35\",\"NOC\":\"46,54\",\"VHC\":\"43,64\",\"COFGEN\":\"0,000051068663000000\",\"COFNOC\":\"0,000098480330000000\",\"COFVHC\":\"0,000141767815000000\",\"PMHGEN\":\"37,72\",\"PMHNOC\":\"35,97\",\"PMHVHC\":\"34,85\",\"SAHGEN\":\"5,86\",\"SAHNOC\":\"5,59\",\"SAHVHC\":\"5,42\",\"FOMGEN\":\"0,03\",\"FOMNOC\":\"0,03\",\"FOMVHC\":\"0,03\",\"FOSGEN\":\"0,17\",\"FOSNOC\":\"0,16\",\"FOSVHC\":\"0,16\",\"INTGEN\":\"0,00\",\"INTNOC\":\"0,00\",\"INTVHC\":\"0,00\",\"PCAPGEN\":\"5,76\",\"PCAPNOC\":\"0,96\",\"PCAPVHC\":\"0,74\",\"TEUGEN\":\"44,03\",\"TEUNOC\":\"2,22\",\"TEUVHC\":\"0,89\",\"CCVGEN\":\"1,77\",\"CCVNOC\":\"1,62\",\"CCVVHC\":\"1,56\"},{\"Dia\":\"04/11/2020\",\"Hora\":\"05-06\",\"GEN\":\"97,07\",\"NOC\":\"48,22\",\"VHC\":\"45,31\",\"COFGEN\":\"0,000052659538000000\",\"COFNOC\":\"0,000102434022000000\",\"COFVHC\":\"0,000134643748000000\",\"PMHGEN\":\"40,87\",\"PMHNOC\":\"39,00\",\"PMHVHC\":\"37,81\",\"SAHGEN\":\"4,42\",\"SAHNOC\":\"4,22\",\"SAHVHC\":\"4,09\",\"FOMGEN\":\"0,03\",\"FOMNOC\":\"0,03\",\"FOMVHC\":\"0,03\",\"FOSGEN\":\"0,17\",\"FOSNOC\":\"0,16\",\"FOSVHC\":\"0,16\",\"INTGEN\":\"0,00\",\"INTNOC\":\"0,00\",\"INTVHC\":\"0,00\",\"PCAPGEN\":\"5,75\",\"PCAPNOC\":\"0,95\",\"PCAPVHC\":\"0,74\",\"TEUGEN\":\"44,03\",\"TEUNOC\":\"2,22\",\"TEUVHC\":\"0,89\",\"CCVGEN\":\"1,79\",\"CCVNOC\":\"1,64\",\"CCVVHC\":\"1,59\"},{\"Dia\":\"04/11/2020\",\"Hora\":\"06-07\",\"GEN\":\"106,05\",\"NOC\":\"57,06\",\"VHC\":\"53,95\",\"COFGEN\":\"0,000062822346000000\",\"COFNOC\":\"0,000109690240000000\",\"COFVHC\":\"0,000133136255000000\",\"PMHGEN\":\"50,39\",\"PMHNOC\":\"48,25\",\"PMHVHC\":\"46,84\",\"SAHGEN\":\"3,86\",\"SAHNOC\":\"3,70\",\"SAHVHC\":\"3,59\",\"FOMGEN\":\"0,03\",\"FOMNOC\":\"0,03\",\"FOMVHC\":\"0,03\",\"FOSGEN\":\"0,17\",\"FOSNOC\":\"0,16\",\"FOSVHC\":\"0,16\",\"INTGEN\":\"0,00\",\"INTNOC\":\"0,00\",\"INTVHC\":\"0,00\",\"PCAPGEN\":\"5,66\",\"PCAPNOC\":\"0,94\",\"PCAPVHC\":\"0,73\",\"TEUGEN\":\"44,03\",\"TEUNOC\":\"2,22\",\"TEUVHC\":\"0,89\",\"CCVGEN\":\"1,91\",\"CCVNOC\":\"1,76\",\"CCVVHC\":\"1,71\"},{\"Dia\":\"04/11/2020\",\"Hora\":\"07-08\",\"GEN\":\"106,80\",\"NOC\":\"57,99\",\"VHC\":\"61,60\",\"COFGEN\":\"0,000088159281000000\",\"COFNOC\":\"0,000118960096000000\",\"COFVHC\":\"0,000132600408000000\",\"PMHGEN\":\"51,99\",\"PMHNOC\":\"49,92\",\"PMHVHC\":\"52,24\",\"SAHGEN\":\"3,09\",\"SAHNOC\":\"2,97\",\"SAHVHC\":\"3,11\",\"FOMGEN\":\"0,03\",\"FOMNOC\":\"0,03\",\"FOMVHC\":\"0,03\",\"FOSGEN\":\"0,17\",\"FOSNOC\":\"0,16\",\"FOSVHC\":\"0,17\",\"INTGEN\":\"0,00\",\"INTNOC\":\"0,00\",\"INTVHC\":\"0,00\",\"PCAPGEN\":\"5,59\",\"PCAPNOC\":\"0,93\",\"PCAPVHC\":\"1,32\",\"TEUGEN\":\"44,03\",\"TEUNOC\":\"2,22\",\"TEUVHC\":\"2,88\",\"CCVGEN\":\"1,91\",\"CCVNOC\":\"1,77\",\"CCVVHC\":\"1,85\"},{\"Dia\":\"04/11/2020\",\"Hora\":\"08-09\",\"GEN\":\"106,86\",\"NOC\":\"58,51\",\"VHC\":\"61,70\",\"COFGEN\":\"0,000104277035000000\",\"COFNOC\":\"0,000104450769000000\",\"COFVHC\":\"0,000089060370000000\",\"PMHGEN\":\"52,66\",\"PMHNOC\":\"50,86\",\"PMHVHC\":\"52,84\",\"SAHGEN\":\"2,68\",\"SAHNOC\":\"2,59\",\"SAHVHC\":\"2,69\",\"FOMGEN\":\"0,03\",\"FOMNOC\":\"0,03\",\"FOMVHC\":\"0,03\",\"FOSGEN\":\"0,16\",\"FOSNOC\":\"0,16\",\"FOSVHC\":\"0,16\",\"INTGEN\":\"0,00\",\"INTNOC\":\"0,00\",\"INTVHC\":\"0,00\",\"PCAPGEN\":\"5,42\",\"PCAPNOC\":\"0,91\",\"PCAPVHC\":\"1,28\",\"TEUGEN\":\"44,03\",\"TEUNOC\":\"2,22\",\"TEUVHC\":\"2,88\",\"CCVGEN\":\"1,88\",\"CCVNOC\":\"1,75\",\"CCVVHC\":\"1,82\"},{\"Dia\":\"04/11/2020\",\"Hora\":\"09-10\",\"GEN\":\"107,33\",\"NOC\":\"59,14\",\"VHC\":\"62,27\",\"COFGEN\":\"0,000109800890000000\",\"COFNOC\":\"0,000099728710000000\",\"COFVHC\":\"0,000083546859000000\",\"PMHGEN\":\"53,30\",\"PMHNOC\":\"51,60\",\"PMHVHC\":\"53,53\",\"SAHGEN\":\"2,57\",\"SAHNOC\":\"2,49\",\"SAHVHC\":\"2,58\",\"FOMGEN\":\"0,03\",\"FOMNOC\":\"0,03\",\"FOMVHC\":\"0,03\",\"FOSGEN\":\"0,16\",\"FOSNOC\":\"0,15\",\"FOSVHC\":\"0,16\",\"INTGEN\":\"0,00\",\"INTNOC\":\"0,00\",\"INTVHC\":\"0,00\",\"PCAPGEN\":\"5,36\",\"PCAPNOC\":\"0,90\",\"PCAPVHC\":\"1,26\",\"TEUGEN\":\"44,03\",\"TEUNOC\":\"2,22\",\"TEUVHC\":\"2,88\",\"CCVGEN\":\"1,88\",\"CCVNOC\":\"1,75\",\"CCVVHC\":\"1,82\"},{\"Dia\":\"04/11/2020\",\"Hora\":\"10-11\",\"GEN\":\"105,92\",\"NOC\":\"57,84\",\"VHC\":\"60,88\",\"COFGEN\":\"0,000115881649000000\",\"COFNOC\":\"0,000097866025000000\",\"COFVHC\":\"0,000084187024000000\",\"PMHGEN\":\"51,87\",\"PMHNOC\":\"50,25\",\"PMHVHC\":\"52,10\",\"SAHGEN\":\"2,64\",\"SAHNOC\":\"2,56\",\"SAHVHC\":\"2,65\",\"FOMGEN\":\"0,03\",\"FOMNOC\":\"0,03\",\"FOMVHC\":\"0,03\",\"FOSGEN\":\"0,16\",\"FOSNOC\":\"0,15\",\"FOSVHC\":\"0,16\",\"INTGEN\":\"0,00\",\"INTNOC\":\"0,00\",\"INTVHC\":\"0,00\",\"PCAPGEN\":\"5,34\",\"PCAPNOC\":\"0,90\",\"PCAPVHC\":\"1,26\",\"TEUGEN\":\"44,03\",\"TEUNOC\":\"2,22\",\"TEUVHC\":\"2,88\",\"CCVGEN\":\"1,85\",\"CCVNOC\":\"1,73\",\"CCVVHC\":\"1,80\"},{\"Dia\":\"04/11/2020\",\"Hora\":\"11-12\",\"GEN\":\"105,38\",\"NOC\":\"57,31\",\"VHC\":\"60,33\",\"COFGEN\":\"0,000116935111000000\",\"COFNOC\":\"0,000092023664000000\",\"COFVHC\":\"0,000082005881000000\",\"PMHGEN\":\"51,09\",\"PMHNOC\":\"49,49\",\"PMHVHC\":\"51,31\",\"SAHGEN\":\"2,89\",\"SAHNOC\":\"2,80\",\"SAHVHC\":\"2,90\",\"FOMGEN\":\"0,03\",\"FOMNOC\":\"0,03\",\"FOMVHC\":\"0,03\",\"FOSGEN\":\"0,16\",\"FOSNOC\":\"0,15\",\"FOSVHC\":\"0,16\",\"INTGEN\":\"0,00\",\"INTNOC\":\"0,00\",\"INTVHC\":\"0,00\",\"PCAPGEN\":\"5,34\",\"PCAPNOC\":\"0,90\",\"PCAPVHC\":\"1,26\",\"TEUGEN\":\"44,03\",\"TEUNOC\":\"2,22\",\"TEUVHC\":\"2,88\",\"CCVGEN\":\"1,85\",\"CCVNOC\":\"1,72\",\"CCVVHC\":\"1,79\"},{\"Dia\":\"04/11/2020\",\"Hora\":\"12-13\",\"GEN\":\"103,64\",\"NOC\":\"122,26\",\"VHC\":\"58,57\",\"COFGEN\":\"0,000120210827000000\",\"COFNOC\":\"0,000081615472000000\",\"COFVHC\":\"0,000079463478000000\",\"PMHGEN\":\"50,46\",\"PMHNOC\":\"50,86\",\"PMHVHC\":\"50,64\",\"SAHGEN\":\"1,85\",\"SAHNOC\":\"1,87\",\"SAHVHC\":\"1,86\",\"FOMGEN\":\"0,03\",\"FOMNOC\":\"0,03\",\"FOMVHC\":\"0,03\",\"FOSGEN\":\"0,16\",\"FOSNOC\":\"0,16\",\"FOSVHC\":\"0,16\",\"INTGEN\":\"0,00\",\"INTNOC\":\"0,00\",\"INTVHC\":\"0,00\",\"PCAPGEN\":\"5,30\",\"PCAPNOC\":\"5,50\",\"PCAPVHC\":\"1,25\",\"TEUGEN\":\"44,03\",\"TEUNOC\":\"62,01\",\"TEUVHC\":\"2,88\",\"CCVGEN\":\"1,81\",\"CCVNOC\":\"1,83\",\"CCVVHC\":\"1,76\"},{\"Dia\":\"04/11/2020\",\"Hora\":\"13-14\",\"GEN\":\"103,60\",\"NOC\":\"122,22\",\"VHC\":\"122,22\",\"COFGEN\":\"0,000126715075000000\",\"COFNOC\":\"0,000083631529000000\",\"COFVHC\":\"0,000077321330000000\",\"PMHGEN\":\"50,39\",\"PMHNOC\":\"50,78\",\"PMHVHC\":\"50,78\",\"SAHGEN\":\"1,87\",\"SAHNOC\":\"1,89\",\"SAHVHC\":\"1,89\",\"FOMGEN\":\"0,03\",\"FOMNOC\":\"0,03\",\"FOMVHC\":\"0,03\",\"FOSGEN\":\"0,16\",\"FOSNOC\":\"0,16\",\"FOSVHC\":\"0,16\",\"INTGEN\":\"0,00\",\"INTNOC\":\"0,00\",\"INTVHC\":\"0,00\",\"PCAPGEN\":\"5,32\",\"PCAPNOC\":\"5,52\",\"PCAPVHC\":\"5,52\",\"TEUGEN\":\"44,03\",\"TEUNOC\":\"62,01\",\"TEUVHC\":\"62,01\",\"CCVGEN\":\"1,81\",\"CCVNOC\":\"1,83\",\"CCVVHC\":\"1,83\"},{\"Dia\":\"04/11/2020\",\"Hora\":\"14-15\",\"GEN\":\"103,77\",\"NOC\":\"122,38\",\"VHC\":\"122,38\",\"COFGEN\":\"0,000124670921000000\",\"COFNOC\":\"0,000082349484000000\",\"COFVHC\":\"0,000074133463000000\",\"PMHGEN\":\"50,43\",\"PMHNOC\":\"50,82\",\"PMHVHC\":\"50,82\",\"SAHGEN\":\"1,95\",\"SAHNOC\":\"1,97\",\"SAHVHC\":\"1,97\",\"FOMGEN\":\"0,03\",\"FOMNOC\":\"0,03\",\"FOMVHC\":\"0,03\",\"FOSGEN\":\"0,16\",\"FOSNOC\":\"0,16\",\"FOSVHC\":\"0,16\",\"INTGEN\":\"0,00\",\"INTNOC\":\"0,00\",\"INTVHC\":\"0,00\",\"PCAPGEN\":\"5,35\",\"PCAPNOC\":\"5,55\",\"PCAPVHC\":\"5,55\",\"TEUGEN\":\"44,03\",\"TEUNOC\":\"62,01\",\"TEUVHC\":\"62,01\",\"CCVGEN\":\"1,82\",\"CCVNOC\":\"1,84\",\"CCVVHC\":\"1,84\"},{\"Dia\":\"04/11/2020\",\"Hora\":\"15-16\",\"GEN\":\"103,83\",\"NOC\":\"122,45\",\"VHC\":\"122,45\",\"COFGEN\":\"0,000118100778000000\",\"COFNOC\":\"0,000077450578000000\",\"COFVHC\":\"0,000070608205000000\",\"PMHGEN\":\"50,65\",\"PMHNOC\":\"51,04\",\"PMHVHC\":\"51,04\",\"SAHGEN\":\"1,77\",\"SAHNOC\":\"1,79\",\"SAHVHC\":\"1,79\",\"FOMGEN\":\"0,03\",\"FOMNOC\":\"0,03\",\"FOMVHC\":\"0,03\",\"FOSGEN\":\"0,16\",\"FOSNOC\":\"0,16\",\"FOSVHC\":\"0,16\",\"INTGEN\":\"0,00\",\"INTNOC\":\"0,00\",\"INTVHC\":\"0,00\",\"PCAPGEN\":\"5,37\",\"PCAPNOC\":\"5,57\",\"PCAPVHC\":\"5,57\",\"TEUGEN\":\"44,03\",\"TEUNOC\":\"62,01\",\"TEUVHC\":\"62,01\",\"CCVGEN\":\"1,83\",\"CCVNOC\":\"1,84\",\"CCVVHC\":\"1,84\"},{\"Dia\":\"04/11/2020\",\"Hora\":\"16-17\",\"GEN\":\"101,49\",\"NOC\":\"120,09\",\"VHC\":\"120,09\",\"COFGEN\":\"0,000114924866000000\",\"COFNOC\":\"0,000074351596000000\",\"COFVHC\":\"0,000069769866000000\",\"PMHGEN\":\"48,15\",\"PMHNOC\":\"48,53\",\"PMHVHC\":\"48,53\",\"SAHGEN\":\"1,96\",\"SAHNOC\":\"1,98\",\"SAHVHC\":\"1,98\",\"FOMGEN\":\"0,03\",\"FOMNOC\":\"0,03\",\"FOMVHC\":\"0,03\",\"FOSGEN\":\"0,16\",\"FOSNOC\":\"0,16\",\"FOSVHC\":\"0,16\",\"INTGEN\":\"0,00\",\"INTNOC\":\"0,00\",\"INTVHC\":\"0,00\",\"PCAPGEN\":\"5,37\",\"PCAPNOC\":\"5,58\",\"PCAPVHC\":\"5,58\",\"TEUGEN\":\"44,03\",\"TEUNOC\":\"62,01\",\"TEUVHC\":\"62,01\",\"CCVGEN\":\"1,79\",\"CCVNOC\":\"1,81\",\"CCVVHC\":\"1,81\"},{\"Dia\":\"04/11/2020\",\"Hora\":\"17-18\",\"GEN\":\"98,75\",\"NOC\":\"117,33\",\"VHC\":\"117,33\",\"COFGEN\":\"0,000120216433000000\",\"COFNOC\":\"0,000079638001000000\",\"COFVHC\":\"0,000074523187000000\",\"PMHGEN\":\"45,54\",\"PMHNOC\":\"45,89\",\"PMHVHC\":\"45,89\",\"SAHGEN\":\"1,86\",\"SAHNOC\":\"1,87\",\"SAHVHC\":\"1,87\",\"FOMGEN\":\"0,03\",\"FOMNOC\":\"0,03\",\"FOMVHC\":\"0,03\",\"FOSGEN\":\"0,16\",\"FOSNOC\":\"0,16\",\"FOSVHC\":\"0,16\",\"INTGEN\":\"0,00\",\"INTNOC\":\"0,00\",\"INTVHC\":\"0,00\",\"PCAPGEN\":\"5,38\",\"PCAPNOC\":\"5,59\",\"PCAPVHC\":\"5,59\",\"TEUGEN\":\"44,03\",\"TEUNOC\":\"62,01\",\"TEUVHC\":\"62,01\",\"CCVGEN\":\"1,75\",\"CCVNOC\":\"1,77\",\"CCVVHC\":\"1,77\"},{\"Dia\":\"04/11/2020\",\"Hora\":\"18-19\",\"GEN\":\"100,85\",\"NOC\":\"119,49\",\"VHC\":\"119,49\",\"COFGEN\":\"0,000136131674000000\",\"COFNOC\":\"0,000118474966000000\",\"COFVHC\":\"0,000131411905000000\",\"PMHGEN\":\"47,04\",\"PMHNOC\":\"47,45\",\"PMHVHC\":\"47,45\",\"SAHGEN\":\"2,42\",\"SAHNOC\":\"2,44\",\"SAHVHC\":\"2,44\",\"FOMGEN\":\"0,03\",\"FOMNOC\":\"0,03\",\"FOMVHC\":\"0,03\",\"FOSGEN\":\"0,16\",\"FOSNOC\":\"0,16\",\"FOSVHC\":\"0,16\",\"INTGEN\":\"0,00\",\"INTNOC\":\"0,00\",\"INTVHC\":\"0,00\",\"PCAPGEN\":\"5,38\",\"PCAPNOC\":\"5,60\",\"PCAPVHC\":\"5,60\",\"TEUGEN\":\"44,03\",\"TEUNOC\":\"62,01\",\"TEUVHC\":\"62,01\",\"CCVGEN\":\"1,79\",\"CCVNOC\":\"1,80\",\"CCVVHC\":\"1,80\"},{\"Dia\":\"04/11/2020\",\"Hora\":\"19-20\",\"GEN\":\"102,42\",\"NOC\":\"121,02\",\"VHC\":\"121,02\",\"COFGEN\":\"0,000148234200000000\",\"COFNOC\":\"0,000134516024000000\",\"COFVHC\":\"0,000160032088000000\",\"PMHGEN\":\"48,76\",\"PMHNOC\":\"49,14\",\"PMHVHC\":\"49,14\",\"SAHGEN\":\"2,23\",\"SAHNOC\":\"2,24\",\"SAHVHC\":\"2,24\",\"FOMGEN\":\"0,03\",\"FOMNOC\":\"0,03\",\"FOMVHC\":\"0,03\",\"FOSGEN\":\"0,16\",\"FOSNOC\":\"0,16\",\"FOSVHC\":\"0,16\",\"INTGEN\":\"0,00\",\"INTNOC\":\"0,00\",\"INTVHC\":\"0,00\",\"PCAPGEN\":\"5,40\",\"PCAPNOC\":\"5,61\",\"PCAPVHC\":\"5,61\",\"TEUGEN\":\"44,03\",\"TEUNOC\":\"62,01\",\"TEUVHC\":\"62,01\",\"CCVGEN\":\"1,81\",\"CCVNOC\":\"1,83\",\"CCVVHC\":\"1,83\"},{\"Dia\":\"04/11/2020\",\"Hora\":\"20-21\",\"GEN\":\"103,18\",\"NOC\":\"121,84\",\"VHC\":\"121,84\",\"COFGEN\":\"0,000157593303000000\",\"COFNOC\":\"0,000143438728000000\",\"COFVHC\":\"0,000163428542000000\",\"PMHGEN\":\"50,11\",\"PMHNOC\":\"50,53\",\"PMHVHC\":\"50,53\",\"SAHGEN\":\"1,60\",\"SAHNOC\":\"1,62\",\"SAHVHC\":\"1,62\",\"FOMGEN\":\"0,03\",\"FOMNOC\":\"0,03\",\"FOMVHC\":\"0,03\",\"FOSGEN\":\"0,16\",\"FOSNOC\":\"0,16\",\"FOSVHC\":\"0,16\",\"INTGEN\":\"0,00\",\"INTNOC\":\"0,00\",\"INTVHC\":\"0,00\",\"PCAPGEN\":\"5,42\",\"PCAPNOC\":\"5,63\",\"PCAPVHC\":\"5,63\",\"TEUGEN\":\"44,03\",\"TEUNOC\":\"62,01\",\"TEUVHC\":\"62,01\",\"CCVGEN\":\"1,83\",\"CCVNOC\":\"1,84\",\"CCVVHC\":\"1,84\"},{\"Dia\":\"04/11/2020\",\"Hora\":\"21-22\",\"GEN\":\"96,28\",\"NOC\":\"114,88\",\"VHC\":\"114,88\",\"COFGEN\":\"0,000156763848000000\",\"COFNOC\":\"0,000147327219000000\",\"COFVHC\":\"0,000162192969000000\",\"PMHGEN\":\"42,73\",\"PMHNOC\":\"43,09\",\"PMHVHC\":\"43,09\",\"SAHGEN\":\"2,15\",\"SAHNOC\":\"2,17\",\"SAHVHC\":\"2,17\",\"FOMGEN\":\"0,03\",\"FOMNOC\":\"0,03\",\"FOMVHC\":\"0,03\",\"FOSGEN\":\"0,16\",\"FOSNOC\":\"0,16\",\"FOSVHC\":\"0,16\",\"INTGEN\":\"0,00\",\"INTNOC\":\"0,00\",\"INTVHC\":\"0,00\",\"PCAPGEN\":\"5,45\",\"PCAPNOC\":\"5,66\",\"PCAPVHC\":\"5,66\",\"TEUGEN\":\"44,03\",\"TEUNOC\":\"62,01\",\"TEUVHC\":\"62,01\",\"CCVGEN\":\"1,73\",\"CCVNOC\":\"1,74\",\"CCVVHC\":\"1,74\"},{\"Dia\":\"04/11/2020\",\"Hora\":\"22-23\",\"GEN\":\"95,80\",\"NOC\":\"47,44\",\"VHC\":\"114,48\",\"COFGEN\":\"0,000135386557000000\",\"COFNOC\":\"0,000160172822000000\",\"COFVHC\":\"0,000156777469000000\",\"PMHGEN\":\"41,62\",\"PMHNOC\":\"39,96\",\"PMHVHC\":\"42,04\",\"SAHGEN\":\"2,64\",\"SAHNOC\":\"2,53\",\"SAHVHC\":\"2,66\",\"FOMGEN\":\"0,03\",\"FOMNOC\":\"0,03\",\"FOMVHC\":\"0,03\",\"FOSGEN\":\"0,17\",\"FOSNOC\":\"0,16\",\"FOSVHC\":\"0,17\",\"INTGEN\":\"0,00\",\"INTNOC\":\"0,00\",\"INTVHC\":\"0,00\",\"PCAPGEN\":\"5,57\",\"PCAPNOC\":\"0,93\",\"PCAPVHC\":\"5,80\",\"TEUGEN\":\"44,03\",\"TEUNOC\":\"2,22\",\"TEUVHC\":\"62,01\",\"CCVGEN\":\"1,74\",\"CCVNOC\":\"1,61\",\"CCVVHC\":\"1,76\"},{\"Dia\":\"04/11/2020\",\"Hora\":\"23-24\",\"GEN\":\"90,56\",\"NOC\":\"42,31\",\"VHC\":\"45,26\",\"COFGEN\":\"0,000106802563000000\",\"COFNOC\":\"0,000149578683000000\",\"COFVHC\":\"0,000148323189000000\",\"PMHGEN\":\"35,92\",\"PMHNOC\":\"34,44\",\"PMHVHC\":\"36,10\",\"SAHGEN\":\"3,14\",\"SAHNOC\":\"3,01\",\"SAHVHC\":\"3,15\",\"FOMGEN\":\"0,03\",\"FOMNOC\":\"0,03\",\"FOMVHC\":\"0,03\",\"FOSGEN\":\"0,17\",\"FOSNOC\":\"0,16\",\"FOSVHC\":\"0,17\",\"INTGEN\":\"0,00\",\"INTNOC\":\"0,00\",\"INTVHC\":\"0,00\",\"PCAPGEN\":\"5,61\",\"PCAPNOC\":\"0,93\",\"PCAPVHC\":\"1,32\",\"TEUGEN\":\"44,03\",\"TEUNOC\":\"2,22\",\"TEUVHC\":\"2,88\",\"CCVGEN\":\"1,67\",\"CCVNOC\":\"1,53\",\"CCVVHC\":\"1,61\"}]}'"
      ]
     },
     "execution_count": 93,
     "metadata": {},
     "output_type": "execute_result"
    }
   ],
   "source": [
    "request.content"
   ]
  },
  {
   "cell_type": "code",
   "execution_count": 94,
   "metadata": {},
   "outputs": [
    {
     "name": "stdout",
     "output_type": "stream",
     "text": [
      "Price at 00-01h is : 45,54£/MWh \n",
      "Price at 01-02h is : 45,44£/MWh \n",
      "Price at 02-03h is : 46,13£/MWh \n",
      "Price at 03-04h is : 46,07£/MWh \n",
      "Price at 04-05h is : 46,54£/MWh \n",
      "Price at 05-06h is : 48,22£/MWh \n",
      "Price at 06-07h is : 57,06£/MWh \n",
      "Price at 07-08h is : 57,99£/MWh \n",
      "Price at 08-09h is : 58,51£/MWh \n",
      "Price at 09-10h is : 59,14£/MWh \n",
      "Price at 10-11h is : 57,84£/MWh \n",
      "Price at 11-12h is : 57,31£/MWh \n",
      "Price at 12-13h is : 122,26£/MWh \n",
      "Price at 13-14h is : 122,22£/MWh \n",
      "Price at 14-15h is : 122,38£/MWh \n",
      "Price at 15-16h is : 122,45£/MWh \n",
      "Price at 16-17h is : 120,09£/MWh \n",
      "Price at 17-18h is : 117,33£/MWh \n",
      "Price at 18-19h is : 119,49£/MWh \n",
      "Price at 19-20h is : 121,02£/MWh \n",
      "Price at 20-21h is : 121,84£/MWh \n",
      "Price at 21-22h is : 114,88£/MWh \n",
      "Price at 22-23h is : 47,44£/MWh \n",
      "Price at 23-24h is : 42,31£/MWh \n"
     ]
    }
   ],
   "source": [
    "for arch in request.json()['PVPC']:\n",
    "    print('Price at ' + str(arch['Hora']) + 'h is : ' + str(arch['NOC']) + '£/MWh ')"
   ]
  },
  {
   "cell_type": "code",
   "execution_count": null,
   "metadata": {},
   "outputs": [],
   "source": []
  }
 ],
 "metadata": {
  "kernelspec": {
   "display_name": "Python 3",
   "language": "python",
   "name": "python3"
  },
  "language_info": {
   "codemirror_mode": {
    "name": "ipython",
    "version": 3
   },
   "file_extension": ".py",
   "mimetype": "text/x-python",
   "name": "python",
   "nbconvert_exporter": "python",
   "pygments_lexer": "ipython3",
   "version": "3.7.6"
  }
 },
 "nbformat": 4,
 "nbformat_minor": 4
}
